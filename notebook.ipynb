{
 "cells": [
  {
   "cell_type": "markdown",
   "metadata": {},
   "source": [
    "## **EN2550 Assignment 2 on Fitting and Alignment** \n",
    "### *by Rajapaksha R.M.P.A.P. - 190484T* \n"
   ]
  },
  {
   "cell_type": "code",
   "execution_count": 4,
   "metadata": {},
   "outputs": [],
   "source": [
    "# importing libraries \n",
    "import numpy as np\n",
    "from scipy import linalg \n",
    "from scipy.optimize import minimize \n",
    "import cv2 as cv \n",
    "import matplotlib.pyplot as plt \n",
    "%matplotlib inline "
   ]
  },
  {
   "cell_type": "code",
   "execution_count": 14,
   "metadata": {},
   "outputs": [],
   "source": [
    "def isInlier(coord1, center, r, t):\n",
    "     \"return whether a given point (coord1) is an inlier or not of the circle with center (center) and radius (r) w.r.t a threshold distance (t)\"\n",
    "     x, y = coord1; xO, yO = center\n",
    "     distance_from_circumference = np.abs(np.sqrt((x-xO)**2 + (y-yO)**2) - r)\n",
    "     if (distance_from_circumference <= t): return True\n",
    "     else: return False \n",
    "\n",
    "def RANSACcircle(points, N, t, d):\n",
    "     \"finds the best estimated circle for a given point set using RANSAC method\" \n",
    "     trial = 0\n",
    "     estimatedCircleDict = {} \n",
    "     while (trial < N): \n",
    "          # randomly choose a set of 3 points from the point set.\n",
    "          sample_indices = np.random.randint(0, len(points), 3) \n",
    "          \"if the chosen points are not distinct, then reject the sample and take a new one.\" \n",
    "          if (len(set(sample_indices)) < 3): N += 1; continue \n",
    "          sample = [points[i] for i in sample_indices] \n",
    "          x1, y1 = sample[0]; x2, y2 = sample[1]; x3, y3 = sample[2]\n",
    "\n",
    "          # finding the circumcenter of the triangle\n",
    "          A = np.array([[(x1-x2), (y1-y2)], \n",
    "                        [(x1-x3), (y1-y3)]])\n",
    "          B = np.array([[1/2 * (x1**2-x2**2 + y1**2-y2**2)],\n",
    "                        [1/2 * (x1**2-x3**2 + y1**2-y3**2)]])\n",
    "          center = ((np.linalg.inv(A) @ B).T).reshape(2) \n",
    "          xO = center[0]; yO = center[1] \n",
    "\n",
    "          # finding the radius of the circumscribed circle \n",
    "          r = np.sqrt((x1-xO)**2 + (y1-yO)**2) \n",
    "\n",
    "          \"\"\"if the radius of the estimated circle is greater than 12 (half of the width of the region of point distribution), \n",
    "          or xO and yO are out of the [-12, 12] interval, reject the circle as invalid. \"\"\"\n",
    "          if (r > 12) or not (-12 <= xO <= 12) or not (-12 <= yO <= 12): continue \n",
    "\n",
    "          # finding the inlier count \n",
    "          inlier_count = 0\n",
    "          for point in points: \n",
    "               if isInlier(point, center, r, t): inlier_count += 1\n",
    "\n",
    "          # if the inlier count exceeds the consensus set size (d), add the estimated circle with the inlier count to the dict\n",
    "          if (inlier_count >= d): estimatedCircleDict[inlier_count] = (center, r)\n",
    "\n",
    "          trial += 1 # process is complete for the selected sample. \n",
    "\n",
    "     # finally, return the circle with the maximum inlier count as the best fitting circle. \n",
    "     return estimatedCircleDict[max(estimatedCircleDict.keys())]  "
   ]
  },
  {
   "cell_type": "code",
   "execution_count": 10,
   "metadata": {},
   "outputs": [],
   "source": [
    "# ************************** question 1 ***************************** \n",
    "N = 100     # total number of points \n",
    "half_n = N//2 \n",
    "\n",
    "# creating a cluster of random points around a known circle \n",
    "r = 10      # radius \n",
    "s = r/16    # variance \n",
    "\n",
    "t = np.random.uniform(0, 2*np.pi, half_n) \n",
    "n = s * np.random.randn(half_n) \n",
    "\n",
    "x, y = (r+n)*np.cos(t), (r+n)*np.sin(t) \n",
    "X_circ = np.hstack((x.reshape(half_n, 1), y.reshape(half_n, 1)))\n",
    "\n",
    "# creating a cluster of random points around a known straight line \n",
    "m, b = -1, 2\n",
    "x = np.linspace(-12, 12, half_n) \n",
    "y = m*x + b + s*np.random.rand(half_n) \n",
    "X_line = np.hstack((x.reshape(half_n, 1), y.reshape(half_n, 1))) \n",
    "X = np.vstack((X_circ, X_line)) "
   ]
  },
  {
   "cell_type": "code",
   "execution_count": 17,
   "metadata": {},
   "outputs": [
    {
     "name": "stdout",
     "output_type": "stream",
     "text": [
      "(array([0.06965707, 0.37970716]), 9.52932515578044)\n"
     ]
    }
   ],
   "source": [
    "# ---------- tuning the parameters --------- \n",
    "N = 35      # number of estimations \n",
    "t = 1.225   # common threshold \n",
    "d = 47      # minimum inlier count \n",
    "\n",
    "# finding the best fitting circle\n",
    "print(RANSACcircle(X, N, t, d)) \n",
    "(center, radius) = RANSACcircle(X, N, t, d) \n",
    "xo, yo = center"
   ]
  },
  {
   "cell_type": "code",
   "execution_count": 19,
   "metadata": {},
   "outputs": [
    {
     "data": {
      "text/plain": [
       "<matplotlib.collections.PathCollection at 0x1c74e8ba3a0>"
      ]
     },
     "execution_count": 19,
     "metadata": {},
     "output_type": "execute_result"
    },
    {
     "data": {
      "image/png": "[encoded data removed]",
      "text/plain": [
       "<Figure size 576x576 with 1 Axes>"
      ]
     },
     "metadata": {
      "needs_background": "light"
     },
     "output_type": "display_data"
    }
   ],
   "source": [
    "# plotting the results \n",
    "bestFitCircle = plt.Circle(center, radius, color='r', fill = False) \n",
    "\n",
    "fig, ax = plt.subplots(figsize = (8, 8)) \n",
    "ax.add_patch(bestFitCircle)\n",
    "ax.scatter(X[:, 0], X[:, 1], marker = 'o') \n",
    "ax.scatter(X_line[:, 0], X_line[:, 1], c = 'r', marker = 'o') "
   ]
  },
  {
   "cell_type": "markdown",
   "metadata": {},
   "source": [
    "#### Using RANSAC method for finding the best fitting circle \n",
    "- step 1 - randomly choose an $s$ number of points from the cluster.\n",
    "    > + In case of fitting a circle, the number of points to be chosen is 3 $[s=3]$. This is due to the fact that for every three distinct points in the 2D space, there is always a single circle that connects all of the three points together. This circle is known as the *circumscribed circle* of the triangle formed by the 3 points. \n",
    "- step 2 - fit a model to the selected points. \n",
    "    > + As discussed earlier, the fitting model is the circumscribed circle. \n",
    "- step 3 - finding the *Inlier* count of the model. \n",
    "    > + Here, the Inliers are the points that reside within a certain threshold distance, $t$ from the circumference of the estimated circle. \n",
    "    > + As given in the code snippet *Listing 1*, the random points that surround the circumference of the circle are distributed according to a *normal/Gaussian distribution* with a *variance* $\\sigma$ equal to $1/16$ times the radius of the original circle. \n",
    "    > + Assume that somehow the above information about the point distribution is given to us. Then we can find an expression for the threshold value $t$ in terms of the radius of the estimated circle $r$, such that $95$% of the points that correspond to the circle are covered by the threshold limit.   \n",
    "          $ t = 1.96\\sigma \\, {\\small (from \\: Standard \\: Normal \\: Distribution \\: Tables)}\n",
    "                \\Longrightarrow t = 1.96 \\times r/16 = 0.1225 \\, r$ \n",
    "    > + Furthermore, if we assume that the estimated circle has a radius around length $10$ (as given in the code), then a single value can be given as a common threshold for all estimations.  \n",
    "          $ t_{common} = 0.1225 \\times 10 = 1.225\n",
    "     $ \n",
    "    \n",
    "- step 4 - if there are $d$ or more inliers, then accept the estimation. \n",
    "    > + To decide whether an estimation is exactly a best fitting model, its inlier count must exceed a certain limit, which is known as the *consensus set size* $d$. The consensus set size depends on the *inlier ratio* of the distribution. \n",
    "    > + As given in the code snippet, there are $50$ points resembling the shape of the circle. Then, since the best fitting model is expected to cover at least a $95$% of the points resembling the circle, the consensus set size can be found as \n",
    "            $ d = 0.95 \\times halfn = 0.95 \\times 50 = 47.5 \\backsimeq 47 $ \n",
    "\n",
    "This process has to be repeated for a number of times to ensure that there is a sufficient probability for at least one sample to be free of any outliers. \n",
    "If the targeted probability of having at least one successful uncontaminated estimation is $p$ and the outlier ratio is $e$, then the number of repetition required to achieve $p$ is given by the following equation. \n",
    "        $ N = log(1-p) / log(1 - (1-e)^s) \n",
    "    $\n",
    "\n",
    "Let us assume a reasonably higher $p$ value as $0.99$ [i.e. a $99$% success rate]. And it is easier to see that the outlier ratio $e$ is equal to $50$% because there are an equal number of points resembling the circle and the straight line. Thus, a minimum value for $N$ can be found out as follows. \n",
    "        $ N = log(1-0.99) / log(1 - (1-0.5)^3) \\Longrightarrow N = 34.48 \\backsimeq 35\n",
    "    $ "
   ]
  },
  {
   "cell_type": "markdown",
   "metadata": {},
   "source": [
    "#### Using RANSAC method for finding the best fitting circle \n",
    "<font size=\"2\"> \n",
    "\n",
    "- step 1 - randomly choose an $s$ number of points from the cluster.\n",
    "> + In case of fitting a circle, the number of points to be chosen is 3 $[s=3]$. \n",
    "- step 2 - fit a model to the selected points. \n",
    "> + In this case, the fitting model is the *circumscribed circle* of the triangle formed by the selected 3 points. \n",
    "- step 3 - finding the *Inlier* count of the model. \n",
    "> + Here, the Inliers are the points that reside within a certain threshold distance, $t$ from the circumference of the estimated circle. \n",
    "> + As given in the code snippet *Listing 1*, the random points that surround the circumference of the circle are distributed according to a *normal/Gaussian distribution* with a *variance* $\\sigma$ equal to $1/16$ times the radius of the original circle. \n",
    "> + Assume that somehow the above information about the point distribution is given to us. Then we can find an expression for the threshold value $t$ in terms of the radius of the estimated circle $r$, such that $95$% of the points that correspond to the circle are covered by the threshold limit.   \n",
    "> $ t = 1.96\\sigma \\ {\\small (from \\ Standard \\ Normal \\ Distribution \\ Tables)} \\Longrightarrow t = 1.96 \\times r/16 = 0.1225 \\ r$ \n",
    "> + Furthermore, if we assume that the estimated circle has a radius around length $10$ (as given in the code), then a single value can be given as a common threshold for all estimations.  \n",
    "> $ t_{common} = 0.1225 \\times 10 = 1.225 $ \n",
    "    \n",
    "- step 4 - if there are $d$ or more inliers, accept the estimation. \n",
    "> + To decide whether an estimation is exactly a best fitting model, its inlier count must exceed a certain limit, which is known as the *consensus set size* $d$. The consensus set size depends on the *inlier ratio* of the distribution. \n",
    "> + As given in the code snippet, there are 50 points resembling the shape of the circle. Then, since the best fitting model is expected to cover at least a 95% of the points resembling the circle, the consensus set size can be found as \n",
    "$ d = 0.95 \\times halfn = 0.95 \\times 50 = 47.5 \\backsimeq 47 $. \n",
    "\n",
    "This process has to be repeated for a number of times to ensure that there is a sufficient probability for at least one sample to be free of any outliers. \n",
    "If the targeted probability of having at least one successful uncontaminated estimation is $p$ and the outlier ratio is $e$, then the number of repetition required to achieve $p$ is given by the equation; \n",
    "$ N = log(1-p) / log(1 - (1-e)^s) $ \n",
    "\n",
    "Let us assume a reasonably higher $p$ value as $0.99$ [i.e. a $99$% success rate]. And it is easier to see that the outlier ratio $e$ is equal to $50$% because there are an equal number of points resembling the circle and the straight line. Thus, a minimum value for $N$ can be found out as follows. \n",
    "$ N = log(1-0.99) / log(1 - (1-0.5)^3) \\Longrightarrow N = 34.48 \\backsimeq 35 $ </font>"
   ]
  },
  {
   "cell_type": "markdown",
   "metadata": {},
   "source": [
    "#### Using RANSAC method for finding the best fitting circle \n",
    "<font size=\"2\"> \n",
    "\n",
    "- step 1 - randomly choose a set of 3 points from the data set.\n",
    "- step 2 - find the *circumscribed circle* of the triangle formed by the selected 3 points. \n",
    "- step 3 - finding the *Inlier* count of the model. \n",
    "> + Here, the Inliers are the points that reside within a certain threshold distance $t$ from the circumference of the estimated circle. \n",
    "> + As given in the code snippet *Listing 1*, the random points that surround the circumference of the circle are distributed according to a *normal/Gaussian distribution* with a *variance* $\\sigma$ equal to $1/16$ times the radius of the original circle. \n",
    "> + Assume that somehow the above information about the point distribution is given to us. Then we can find an expression for the threshold value $t$ in terms of the radius of the estimated circle $r$, such that $95$% of the points that correspond to the circle are covered by the threshold limit.   \n",
    "> $ t = 1.96\\sigma \\ {\\small (from \\ Standard \\ Normal \\ Distribution \\ Tables)} \\Longrightarrow t = 1.96 \\times r/16 = 0.1225 \\ r$ \n",
    "> + Furthermore, if we assume that the estimated circle has a radius around length $10$ (as given in the code), then a single value can be given as a common threshold for all estimations.  \n",
    "> $ t_{common} = 0.1225 \\times 10 = 1.225 $ \n",
    "- step 4 - if there are $d$ or more inliers, accept the estimation. \n",
    "> + To decide whether an estimation is exactly a good fitting model, its inlier count must exceed a certain limit, which is known as the *consensus set size* $d$. The consensus set size depends on the *inlier ratio* of the distribution. \n",
    "> + As given in the code, there are 50 points resembling the shape of the circle. Then, since the best fitting model is expected to cover at least a 95% of the points resembling the circle, the consensus set size can be found as \n",
    "$ d = 0.95 \\times halfn = 0.95 \\times 50 = 47.5 \\backsimeq 47 $. \n",
    "\n",
    "This process has to be repeated for a number of times to ensure that there is a sufficient probability for at least one sample to be free of any outliers. \n",
    "If the targeted probability of having at least one successful uncontaminated estimation is $p$ and the outlier ratio is $e$, then the number of repetition required to achieve $p$ is given by the equation; \n",
    "$ N = log(1-p) / log(1 - (1-e)^s) $ \n",
    "\n",
    "Let us assume a reasonably higher $p$ value as $0.99$ [i.e. a $99$% success rate]. And it is easier to see that the outlier ratio $e$ is equal to $50$% because there are an equal number of points resembling the circle and the straight line. Thus, a minimum value for $N$ can be found out as follows. \n",
    "$ N = log(1-0.99) / log(1 - (1-0.5)^3) \\Longrightarrow N = 34.48 \\backsimeq 35 $ </font>"
   ]
  }
 ],
 "metadata": {
  "interpreter": {
   "hash": "a9f4dcfdb4dc55688fd133140c3d2d726801f97eaced26c0e8e4b7b099d47792"
  },
  "kernelspec": {
   "display_name": "Python 3.9.7 ('base')",
   "language": "python",
   "name": "python3"
  },
  "language_info": {
   "codemirror_mode": {
    "name": "ipython",
    "version": 3
   },
   "file_extension": ".py",
   "mimetype": "text/x-python",
   "name": "python",
   "nbconvert_exporter": "python",
   "pygments_lexer": "ipython3",
   "version": "3.9.7"
  },
  "orig_nbformat": 4
 },
 "nbformat": 4,
 "nbformat_minor": 2
}
