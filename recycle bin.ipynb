{
 "cells": [
  {
   "cell_type": "code",
   "execution_count": 1,
   "metadata": {},
   "outputs": [],
   "source": [
    "# The first explanation for question 1 "
   ]
  },
  {
   "cell_type": "markdown",
   "metadata": {},
   "source": [
    "#### Using RANSAC method for finding the best fitting circle \n",
    "- step 1 - randomly choose an $s$ number of points from the cluster.\n",
    "    > + In case of fitting a circle, the number of points to be chosen is 3 $[s=3]$. This is due to the fact that for every three distinct points in the 2D space, there is always a single circle that connects all of the three points together. This circle is known as the *circumscribed circle* of the triangle formed by the 3 points. \n",
    "- step 2 - fit a model to the selected points. \n",
    "    > + As discussed earlier, the fitting model is the circumscribed circle. \n",
    "- step 3 - finding the *Inlier* count of the model. \n",
    "    > + Here, the Inliers are the points that reside within a certain threshold distance, $t$ from the circumference of the estimated circle. \n",
    "    > + As given in the code snippet *Listing 1*, the random points that surround the circumference of the circle are distributed according to a *normal/Gaussian distribution* with a *variance* $\\sigma$ equal to $1/16$ times the radius of the original circle. \n",
    "    > + Assume that somehow the above information about the point distribution is given to us. Then we can find an expression for the threshold value $t$ in terms of the radius of the estimated circle $r$, such that $95$% of the points that correspond to the circle are covered by the threshold limit.   \n",
    "          $ t = 1.96\\sigma \\, {\\small (from \\: Standard \\: Normal \\: Distribution \\: Tables)}\n",
    "                \\Longrightarrow t = 1.96 \\times r/16 = 0.1225 \\, r$ \n",
    "    > + Furthermore, if we assume that the estimated circle has a radius around length $10$ (as given in the code), then a single value can be given as a common threshold for all estimations.  \n",
    "          $ t_{common} = 0.1225 \\times 10 = 1.225\n",
    "     $ \n",
    "    \n",
    "- step 4 - if there are $d$ or more inliers, then accept the estimation. \n",
    "    > + To decide whether an estimation is exactly a best fitting model, its inlier count must exceed a certain limit, which is known as the *consensus set size* $d$. The consensus set size depends on the *inlier ratio* of the distribution. \n",
    "    > + As given in the code snippet, there are $50$ points resembling the shape of the circle. Then, since the best fitting model is expected to cover at least a $95$% of the points resembling the circle, the consensus set size can be found as \n",
    "            $ d = 0.95 \\times halfn = 0.95 \\times 50 = 47.5 \\backsimeq 47 $ \n",
    "\n",
    "This process has to be repeated for a number of times to ensure that there is a sufficient probability for at least one sample to be free of any outliers. \n",
    "If the targeted probability of having at least one successful uncontaminated estimation is $p$ and the outlier ratio is $e$, then the number of repetition required to achieve $p$ is given by the following equation. \n",
    "        $ N = log(1-p) / log(1 - (1-e)^s) \n",
    "    $\n",
    "\n",
    "Let us assume a reasonably higher $p$ value as $0.99$ [i.e. a $99$% success rate]. And it is easier to see that the outlier ratio $e$ is equal to $50$% because there are an equal number of points resembling the circle and the straight line. Thus, a minimum value for $N$ can be found out as follows. \n",
    "        $ N = log(1-0.99) / log(1 - (1-0.5)^3) \\Longrightarrow N = 34.48 \\backsimeq 35\n",
    "    $ "
   ]
  },
  {
   "cell_type": "code",
   "execution_count": 2,
   "metadata": {},
   "outputs": [],
   "source": [
    "# there are some changes in the Latex code that is printable in \"html\" view, and changed the font size from 3 to 2."
   ]
  },
  {
   "cell_type": "markdown",
   "metadata": {},
   "source": [
    "#### Using RANSAC method for finding the best fitting circle \n",
    "<font size=\"2\"> \n",
    "\n",
    "- step 1 - randomly choose an $s$ number of points from the cluster.\n",
    "> + In case of fitting a circle, the number of points to be chosen is 3 $[s=3]$. \n",
    "- step 2 - fit a model to the selected points. \n",
    "> + In this case, the fitting model is the *circumscribed circle* of the triangle formed by the selected 3 points. \n",
    "- step 3 - finding the *Inlier* count of the model. \n",
    "> + Here, the Inliers are the points that reside within a certain threshold distance, $t$ from the circumference of the estimated circle. \n",
    "> + As given in the code snippet *Listing 1*, the random points that surround the circumference of the circle are distributed according to a *normal/Gaussian distribution* with a *variance* $\\sigma$ equal to $1/16$ times the radius of the original circle. \n",
    "> + Assume that somehow the above information about the point distribution is given to us. Then we can find an expression for the threshold value $t$ in terms of the radius of the estimated circle $r$, such that $95$% of the points that correspond to the circle are covered by the threshold limit.   \n",
    "> $ t = 1.96\\sigma \\ {\\small (from \\ Standard \\ Normal \\ Distribution \\ Tables)} \\Longrightarrow t = 1.96 \\times r/16 = 0.1225 \\ r$ \n",
    "> + Furthermore, if we assume that the estimated circle has a radius around length $10$ (as given in the code), then a single value can be given as a common threshold for all estimations.  \n",
    "> $ t_{common} = 0.1225 \\times 10 = 1.225 $ \n",
    "    \n",
    "- step 4 - if there are $d$ or more inliers, accept the estimation. \n",
    "> + To decide whether an estimation is exactly a best fitting model, its inlier count must exceed a certain limit, which is known as the *consensus set size* $d$. The consensus set size depends on the *inlier ratio* of the distribution. \n",
    "> + As given in the code snippet, there are 50 points resembling the shape of the circle. Then, since the best fitting model is expected to cover at least a 95% of the points resembling the circle, the consensus set size can be found as \n",
    "$ d = 0.95 \\times halfn = 0.95 \\times 50 = 47.5 \\backsimeq 47 $. \n",
    "\n",
    "This process has to be repeated for a number of times to ensure that there is a sufficient probability for at least one sample to be free of any outliers. \n",
    "If the targeted probability of having at least one successful uncontaminated estimation is $p$ and the outlier ratio is $e$, then the number of repetition required to achieve $p$ is given by the equation; \n",
    "$ N = log(1-p) / log(1 - (1-e)^s) $ \n",
    "\n",
    "Let us assume a reasonably higher $p$ value as $0.99$ [i.e. a $99$% success rate]. And it is easier to see that the outlier ratio $e$ is equal to $50$% because there are an equal number of points resembling the circle and the straight line. Thus, a minimum value for $N$ can be found out as follows. \n",
    "$ N = log(1-0.99) / log(1 - (1-0.5)^3) \\Longrightarrow N = 34.48 \\backsimeq 35 $ </font>"
   ]
  },
  {
   "cell_type": "code",
   "execution_count": 3,
   "metadata": {},
   "outputs": [],
   "source": [
    "# I have done some more modifications "
   ]
  },
  {
   "cell_type": "markdown",
   "metadata": {},
   "source": [
    "<font size=\"2\"> \n",
    "\n",
    "#### Using RANSAC method for finding the best fitting circle \n",
    "- step 1 - randomly choose a set of 3 points from the data set.\n",
    "- step 2 - find the *circumscribed circle* of the triangle formed by the selected 3 points. \n",
    "- step 3 - finding the *Inlier* count of the model. \n",
    "> + Here, the Inliers are the points that reside within a certain threshold distance $t$ from the circumference of the estimated circle. \n",
    "> + As given in the code snippet *Listing 1*, the random points that surround the circumference of the circle are distributed according to a *normal/Gaussian distribution* with a *variance* $\\sigma$ equal to $1/16$ times the radius of the original circle. \n",
    "> + Assume that somehow the above information about the point distribution is given to us. Then we can find an expression for the threshold value $t$ in terms of the radius of the estimated circle $r$, such that $95$% of the points that correspond to the circle are covered by the threshold limit.   \n",
    "> $ t = 1.96\\sigma \\ {\\small (from \\ Standard \\ Normal \\ Distribution \\ Tables)} \\Longrightarrow t = 1.96 \\times r/16 = 0.1225 \\ r$ \n",
    "> + Furthermore, if we assume that the estimated circle has a radius around length $10$ (as given in the code), then a single value can be given as a common threshold for all estimations.  \n",
    "> $ t_{common} = 0.1225 \\times 10 = 1.225 $ \n",
    "- step 4 - if there are $d$ or more inliers, accept the estimation. \n",
    "> + To decide whether an estimation is exactly a good fitting model, its inlier count must exceed a certain limit, which is known as the *consensus set size* $d$. The consensus set size depends on the *inlier ratio* of the distribution. \n",
    "> + As given in the code, there are 50 points resembling the shape of the circle. Then, since the best fitting model is expected to cover at least a 95% of the points resembling the circle, the consensus set size can be found as \n",
    "$ d = 0.95 \\times halfn = 0.95 \\times 50 = 47.5 \\backsimeq 47 $. \n",
    "\n",
    "This process has to be repeated for a number of times to ensure that there is a sufficient probability for at least one sample to be free of any outliers. \n",
    "If the targeted probability of having at least one successful uncontaminated estimation is $p$ and the outlier ratio is $e$, then the number of repetition required to achieve $p$ is given by the equation; \n",
    "$ N = log(1-p) / log(1 - (1-e)^s) $ \n",
    "\n",
    "Let us assume a reasonably higher $p$ value as $0.99$ [i.e. a $99$% success rate]. And it is easier to see that the outlier ratio $e$ is equal to $50$% because there are an equal number of points resembling the circle and the straight line. Thus, a minimum value for $N$ can be found out as follows. \n",
    "$ N = log(1-0.99) / log(1 - (1-0.5)^3) \\Longrightarrow N = 34.48 \\backsimeq 35 $ </font>"
   ]
  },
  {
   "cell_type": "code",
   "execution_count": 1,
   "metadata": {},
   "outputs": [],
   "source": [
    "# add a step 6"
   ]
  },
  {
   "cell_type": "markdown",
   "metadata": {},
   "source": [
    "<font size=\"2\"> \n",
    "\n",
    "#### Using RANSAC method for finding the best fitting circle \n",
    "- step 1 - randomly choose a set of 3 points from the data set.\n",
    "- step 2 - find the *circumscribed circle* of the triangle formed by the selected 3 points. \n",
    "- step 3 - finding the *Inlier* count of the model. \n",
    "> + Here, the Inliers are the points that reside within a certain threshold distance $t$ from the circumference of the estimated circle. As given in the code snippet *Listing 1*, these inliers are distributed according to a *Gaussian distribution* with a *variance* value $\\sigma$ equal to $1/16$ times the radius of the original circle. \n",
    "> + Therefore, an expression for the threshold value $t$ can be found in terms of the radius of the estimated circle $r$, such that $95$% of the points of inliers are covered by the threshold limit as $ t = 1.96\\sigma \\ {\\small (from \\ Standard \\ Normal \\ Distribution \\ Tables)} \\Longrightarrow t = 1.96 \\times r/16 = 0.1225 \\ r$.  \n",
    "> + Furthermore, if we assume that the estimated circle has a radius around length $10$ (as given in the code), then a single value can be given as a common threshold for all estimations. $ t_{common} = 0.1225 \\times 10 = 1.225 $ \n",
    "- step 4 - if there are $d$ or more inliers, accept the estimation. \n",
    "> + To decide whether an estimation is exactly a good fitting model, its inlier count must exceed a certain limit, which is known as the *consensus set size* $d$. \n",
    "> + Since there are 50 inliers for the circle, and a good fitting model is expected to cover at least a 95% of those points, the consensus set size $d$ can be found as \n",
    "$ d = 0.95 \\times halfn = 0.95 \\times 50 = 47.5 \\backsimeq 47 $. \n",
    "Store the data about the estimated circle and its inlier count in a dictionary. \n",
    "- step 5 - if accepted, find the best fitting circle for the inliers of the estimated circle. \n",
    "> This step is same as using the total least-square method to refit a straight line for the inliers of the line given by the RANSAC method. And to find a refitting circle, I have used the *Least-Squares Circle Fit* method proposed by *Randy Bullock*. To determine the best fit circle, the error associated with the circle also has to be calculated. \n",
    "\n",
    "This above process has to be repeated over a number of times to ensure that there is a sufficient probability that at least one sample would be free of any outlier. If the targeted probability of having at least one successful uncontaminated estimation is $p$ and the outlier ratio is $e$, then the number of repetition required to achieve $p$ can be found by the equation; \n",
    "$ N = log(1-p) / log(1 - (1-e)^s) $. \n",
    "\n",
    "Let us assume a reasonably higher $p$ value as $0.99$ [i.e. a $99$% success rate]. And it is easier to see that the outlier ratio $e$ is equal to $50$%. Thus, a minimum value for $N$ can be found out as follows. $ N = log(1-0.99) / log(1 - (1-0.5)^3) \\Longrightarrow N = 34.48 \\backsimeq 35 $ \n",
    "\n",
    "Finally, the circle with the maximum inlier count is chosen as the best fitting circle for the point distribution. If there are more than one such circles, then choose the circle with the smallest error. </font>"
   ]
  },
  {
   "cell_type": "code",
   "execution_count": null,
   "metadata": {},
   "outputs": [],
   "source": [
    "def RANSACcircle(points, N, t, d): \n",
    "     \"finds the best fitting circle for a given point set using RANSAC method\" \n",
    "     trial = 0; CircleDict = {} \n",
    "     while (trial < N): # perform N number of estimations. \n",
    "\n",
    "          # --------------- randomly choose a set of 3 points from the point set --------------- \n",
    "          (i1, i2, i3) = np.random.randint(0, len(points), 3)    # finding 3 random indices in 'points' array\n",
    "          if (len(set((i1, i2, i3))) < 3): N += 1; continue      # if the points are not distinct, then reject the sample\n",
    "          x1, y1 = points[i1]; x2, y2 = points[i2]; x3, y3 = points[i3]\n",
    "\n",
    "          # ----- finding the circumscribed circle of the triangle formed by the 3 points ------\n",
    "          A = np.array([[(x1-x2), (y1-y2)], \n",
    "                        [(x1-x3), (y1-y3)]])\n",
    "          B = np.array([[1/2 * (x1**2-x2**2 + y1**2-y2**2)],\n",
    "                        [1/2 * (x1**2-x3**2 + y1**2-y3**2)]])\n",
    "          center = ((np.linalg.inv(A) @ B).T).reshape(2) \n",
    "          xO = center[0]; yO = center[1]          # circumcenter \n",
    "          r = np.sqrt((x1-xO)**2 + (y1-yO)**2)    # radius \n",
    "\n",
    "          if (r > 12) or not (-12 <= xO <= 12) or not (-12 <= yO <= 12): continue # rejecting the circle if out of the region\n",
    "\n",
    "          # ------------------------------ finding the Inliers ---------------------------------\n",
    "          inliers = [] \n",
    "          for point in points: \n",
    "               (x, y) = point \n",
    "               if (np.abs(np.sqrt((x-xO)**2 + (y-yO)**2) - r) <= t): inliers.append(point)\n",
    "\n",
    "          # ------------------------- refit a circle for the inliers ---------------------------\n",
    "          inliers = np.array(inliers)\n",
    "          if (len(inliers) >= d): \n",
    "               ((xc, yc), R, mean_Error) = leastSquaresFitCircle(inliers); inlier_count = len(inliers)  \n",
    "               CircleDict[(inlier_count, mean_Error)] = ((xO, yO, r), (xc, yc, R)) # storing the data about the estimated circle and best-fit \n",
    "               print(inlier_count, mean_Error) \n",
    "          trial += 1 # process is complete for the selected sample. \n",
    "     return CircleDict \n",
    "     # # finally, return the circle with the maximum inlier count as the best fitting circle. \n",
    "     # max_inlier_count = max([inlier_count for (inlier_count, mean_Error) in CircleDict.keys()]) \n",
    "     # best_fit_circles = [(inlier_count, mean_Error) for (inlier_count, mean_Error) in CircleDict.keys() if inlier_count == max_inlier_count]\n",
    "     # if len(best_fit_circles) == 1: # return CircleDict[best_fit_circles[0]]\n",
    "     #      print(\"only one fit circle\"); return best_fit_circles  \n",
    "     \n",
    "     # # if there are many circles with min inlier count, then return the circle with the min Error. \n",
    "     # min_error = min([mean_Error for (inlier_count, mean_Error) in best_fit_circles]) \n",
    "     # for (inlier_count, mean_Error) in best_fit_circles: \n",
    "     #      if mean_Error == min_error: # return CircleDict[(inlier_count, mean_Error)] \n",
    "     #           print(\"few fitting circles\"); return (inlier_count, mean_Error) "
   ]
  },
  {
   "cell_type": "markdown",
   "metadata": {},
   "source": []
  }
 ],
 "metadata": {
  "interpreter": {
   "hash": "a9f4dcfdb4dc55688fd133140c3d2d726801f97eaced26c0e8e4b7b099d47792"
  },
  "kernelspec": {
   "display_name": "Python 3.9.7 ('base')",
   "language": "python",
   "name": "python3"
  },
  "language_info": {
   "codemirror_mode": {
    "name": "ipython",
    "version": 3
   },
   "file_extension": ".py",
   "mimetype": "text/x-python",
   "name": "python",
   "nbconvert_exporter": "python",
   "pygments_lexer": "ipython3",
   "version": "3.9.7"
  },
  "orig_nbformat": 4
 },
 "nbformat": 4,
 "nbformat_minor": 2
}
